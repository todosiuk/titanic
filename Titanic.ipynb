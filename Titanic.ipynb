{
 "cells": [
  {
   "cell_type": "markdown",
   "metadata": {},
   "source": [
    "# Колличество женщин и мужчин"
   ]
  },
  {
   "cell_type": "code",
   "execution_count": 61,
   "metadata": {
    "scrolled": false
   },
   "outputs": [
    {
     "data": {
      "text/plain": [
       "Sex\n",
       "female    314\n",
       "male      577\n",
       "Name: PassengerId, dtype: int64"
      ]
     },
     "execution_count": 61,
     "metadata": {},
     "output_type": "execute_result"
    }
   ],
   "source": [
    "import pandas as pd\n",
    "data = pd.read_csv(open('C:\\\\Users\\\\todosuk\\\\Desktop\\\\train.csv'))\n",
    "sex = data.groupby(['Sex'])['PassengerId'].count()\n",
    "sex\n"
   ]
  },
  {
   "cell_type": "markdown",
   "metadata": {
    "collapsed": true
   },
   "source": [
    "# Какой части пассажиров удалось выжить?"
   ]
  },
  {
   "cell_type": "raw",
   "metadata": {},
   "source": [
    "Посчитайте долю выживших пассажиров. Ответ приведите в процентах (число в интервале от 0 до 100, знак процента не нужен), округлив до двух знаков."
   ]
  },
  {
   "cell_type": "code",
   "execution_count": 62,
   "metadata": {},
   "outputs": [
    {
     "data": {
      "text/plain": [
       "Survived\n",
       "1    38.38\n",
       "Name: PassengerId, dtype: float64"
      ]
     },
     "execution_count": 62,
     "metadata": {},
     "output_type": "execute_result"
    }
   ],
   "source": [
    "import pandas as pd\n",
    "data = pd.read_csv(open('C:\\\\Users\\\\todosuk\\\\Desktop\\\\train.csv'))\n",
    "survived = (data[data.Survived == 1]).groupby(['Survived'])['PassengerId'].count()\n",
    "survived= (survived * 100)/sum(data.groupby(['Survived'])['PassengerId'].count())\n",
    "survived.round(2)"
   ]
  },
  {
   "cell_type": "markdown",
   "metadata": {
    "collapsed": true
   },
   "source": [
    "# Какую долю пассажиры первого класса составляли среди всех пассажиров? "
   ]
  },
  {
   "cell_type": "raw",
   "metadata": {},
   "source": [
    "Ответ приведите в процентах (число в интервале от 0 до 100, знак процента не нужен), округлив до двух знаков."
   ]
  },
  {
   "cell_type": "code",
   "execution_count": 63,
   "metadata": {
    "scrolled": true
   },
   "outputs": [
    {
     "data": {
      "text/plain": [
       "Pclass\n",
       "1    24.24\n",
       "Name: PassengerId, dtype: float64"
      ]
     },
     "execution_count": 63,
     "metadata": {},
     "output_type": "execute_result"
    }
   ],
   "source": [
    "import pandas as pd\n",
    "data = pd.read_csv(open('C:\\\\Users\\\\todosuk\\\\Desktop\\\\train.csv'))\n",
    "first_class = (data[data.Pclass==1]).groupby(['Pclass'])['PassengerId'].count()\n",
    "first_class = (first_class*100)/sum(data.groupby(['Survived'])['PassengerId'].count())\n",
    "first_class.round(2)"
   ]
  },
  {
   "cell_type": "markdown",
   "metadata": {
    "collapsed": true
   },
   "source": [
    "# Какого возраста были пассажиры?"
   ]
  },
  {
   "cell_type": "markdown",
   "metadata": {},
   "source": [
    "Посчитайте среднее и медиану возраста пассажиров. В качестве ответа приведите два числа через пробел."
   ]
  },
  {
   "cell_type": "code",
   "execution_count": 64,
   "metadata": {},
   "outputs": [
    {
     "name": "stdout",
     "output_type": "stream",
     "text": [
      "Средний возраст пассажиров\n",
      "29.69911764705882\n",
      "Медиана возраста\n",
      "28.0\n"
     ]
    }
   ],
   "source": [
    "import pandas as pd\n",
    "data = pd.read_csv(open('C:\\\\Users\\\\todosuk\\\\Desktop\\\\train.csv'))\n",
    "mean_age = data['Age'].mean()\n",
    "median_age = data['Age'].median()\n",
    "print(\"Средний возраст пассажиров\")\n",
    "print(mean_age)\n",
    "print(\"Медиана возраста\")\n",
    "print(median_age)\n",
    "\n"
   ]
  },
  {
   "cell_type": "markdown",
   "metadata": {},
   "source": [
    "# Коррелируют ли число братьев/сестер/супругов с числом родителей/детей? "
   ]
  },
  {
   "cell_type": "markdown",
   "metadata": {},
   "source": [
    "Посчитайте корреляцию Пирсона между признаками SibSp и Parch."
   ]
  },
  {
   "cell_type": "code",
   "execution_count": 43,
   "metadata": {},
   "outputs": [
    {
     "name": "stdout",
     "output_type": "stream",
     "text": [
      "Коэффициент кореляции Пирсона\n",
      "0.41483769862\n",
      "Согласно таблице Чердока это умеренная связь\n",
      "менее 0.3- слабая, от 0.3 до 0.5- умеренная, от 0.5 до 0.7- заметная, от 0.7 до 0.9- высокая, более 0.9- весьма высокая\n"
     ]
    }
   ],
   "source": [
    "import pandas as pd\n",
    "data = pd.read_csv(open('C:\\\\Users\\\\todosuk\\\\Desktop\\\\train.csv'))\n",
    "corr_pearson = data['SibSp'].corr(data['Parch'], method='pearson', min_periods=1)\n",
    "print(\"Коэффициент кореляции Пирсона\")\n",
    "print(corr_pearson)\n",
    "print(\"Согласно таблице Чердока это умеренная связь\")\n",
    "print( \"менее 0.3- слабая, от 0.3 до 0.5- умеренная, от 0.5 до 0.7- заметная, от 0.7 до 0.9- высокая, более 0.9- весьма высокая\")"
   ]
  },
  {
   "cell_type": "markdown",
   "metadata": {},
   "source": [
    "# Какое самое популярное женское имя на корабле?"
   ]
  },
  {
   "cell_type": "code",
   "execution_count": 65,
   "metadata": {},
   "outputs": [
    {
     "name": "stdout",
     "output_type": "stream",
     "text": [
      "Anna\n"
     ]
    }
   ],
   "source": [
    "import pandas as pd\n",
    "import re\n",
    "data = pd.read_csv(open('C:\\\\Users\\\\todosuk\\\\Desktop\\\\train.csv'))\n",
    "fn = data[data['Sex'] == 'female']['Name']\n",
    "\n",
    "def extract_first_name(name):\n",
    "    m = re.search(\".*\\\\((.*)\\\\).*\", name)\n",
    "    if m is not None:\n",
    "        return m.group(1).split(\" \")[0]\n",
    "    # первое слово после Mrs. or Miss. or else\n",
    "    m1 = re.search(\".*\\\\. ([A-Za-z]*)\", name)\n",
    "    return m1.group(1)\n",
    "# получаем имя с максимальной частотой\n",
    "r = fn.map(lambda full_name: extract_first_name(full_name)).value_counts().idxmax()\n",
    "print(r)\n",
    "\n",
    "\n"
   ]
  },
  {
   "cell_type": "code",
   "execution_count": null,
   "metadata": {
    "collapsed": true
   },
   "outputs": [],
   "source": []
  }
 ],
 "metadata": {
  "kernelspec": {
   "display_name": "Python 3",
   "language": "python",
   "name": "python3"
  },
  "language_info": {
   "codemirror_mode": {
    "name": "ipython",
    "version": 3
   },
   "file_extension": ".py",
   "mimetype": "text/x-python",
   "name": "python",
   "nbconvert_exporter": "python",
   "pygments_lexer": "ipython3",
   "version": "3.6.3"
  }
 },
 "nbformat": 4,
 "nbformat_minor": 2
}
